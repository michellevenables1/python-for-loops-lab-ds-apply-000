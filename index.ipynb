{
 "cells": [
  {
   "cell_type": "markdown",
   "metadata": {},
   "source": [
    "# Python For loops Lab"
   ]
  },
  {
   "cell_type": "markdown",
   "metadata": {},
   "source": [
    "### Learning Objectives"
   ]
  },
  {
   "cell_type": "markdown",
   "metadata": {},
   "source": [
    "* Understand how for loops can help us reduce repetition\n",
    "* Understand the syntax of for loops "
   ]
  },
  {
   "cell_type": "markdown",
   "metadata": {},
   "source": [
    "### Picking up where we last left off"
   ]
  },
  {
   "cell_type": "markdown",
   "metadata": {},
   "source": [
    "In the last lesson, we worked with some of our travel data.  Let's retrieve a list with our travel information again from excel.  First, we read the information from excel as a list of dictionaries, with each dictionary representing a location.  And we assign this list to the variable `cities`."
   ]
  },
  {
   "cell_type": "code",
   "execution_count": 25,
   "metadata": {},
   "outputs": [],
   "source": [
    "import pandas\n",
    "file_name = './cities.xlsx'\n",
    "travel_df = pandas.read_excel(file_name)\n",
    "cities = travel_df.to_dict('records')"
   ]
  },
  {
   "cell_type": "markdown",
   "metadata": {},
   "source": [
    "Next, we retrieve the first three city names, stored as the `'City'` attribute of each dictionary, and `'Population'` of each of the cities.  Then we plot the names as our `x_values` and the populations as our `y_values`."
   ]
  },
  {
   "cell_type": "code",
   "execution_count": 26,
   "metadata": {},
   "outputs": [
    {
     "data": {
      "text/html": [
       "<script>requirejs.config({paths: { 'plotly': ['https://cdn.plot.ly/plotly-latest.min']},});if(!window.Plotly) {{require(['plotly'],function(plotly) {window.Plotly=plotly;});}}</script>"
      ],
      "text/vnd.plotly.v1+html": [
       "<script>requirejs.config({paths: { 'plotly': ['https://cdn.plot.ly/plotly-latest.min']},});if(!window.Plotly) {{require(['plotly'],function(plotly) {window.Plotly=plotly;});}}</script>"
      ]
     },
     "metadata": {},
     "output_type": "display_data"
    },
    {
     "data": {
      "application/vnd.plotly.v1+json": {
       "data": [
        {
         "type": "bar",
         "uid": "5d7af83e-b271-11e9-b5c5-5d1e4439d892",
         "x": [
          "Buenos Aires",
          "Toronto",
          "Pyeongchang"
         ],
         "y": [
          2891000,
          2800000,
          2581000
         ]
        }
       ],
       "layout": {}
      },
      "text/html": [
       "<div id=\"e82034d9-32a9-4d02-9254-045153c03e24\" style=\"height: 525px; width: 100%;\" class=\"plotly-graph-div\"></div><script type=\"text/javascript\">require([\"plotly\"], function(Plotly) { window.PLOTLYENV=window.PLOTLYENV || {};window.PLOTLYENV.BASE_URL=\"https://plot.ly\";Plotly.newPlot(\"e82034d9-32a9-4d02-9254-045153c03e24\", [{\"x\": [\"Buenos Aires\", \"Toronto\", \"Pyeongchang\"], \"y\": [2891000, 2800000, 2581000], \"type\": \"bar\", \"uid\": \"5d8fee7e-b271-11e9-b5c5-5d1e4439d892\"}], {}, {\"showLink\": true, \"linkText\": \"Export to plot.ly\"})});</script>"
      ],
      "text/vnd.plotly.v1+html": [
       "<div id=\"e82034d9-32a9-4d02-9254-045153c03e24\" style=\"height: 525px; width: 100%;\" class=\"plotly-graph-div\"></div><script type=\"text/javascript\">require([\"plotly\"], function(Plotly) { window.PLOTLYENV=window.PLOTLYENV || {};window.PLOTLYENV.BASE_URL=\"https://plot.ly\";Plotly.newPlot(\"e82034d9-32a9-4d02-9254-045153c03e24\", [{\"x\": [\"Buenos Aires\", \"Toronto\", \"Pyeongchang\"], \"y\": [2891000, 2800000, 2581000], \"type\": \"bar\", \"uid\": \"5d8fee7e-b271-11e9-b5c5-5d1e4439d892\"}], {}, {\"showLink\": true, \"linkText\": \"Export to plot.ly\"})});</script>"
      ]
     },
     "metadata": {},
     "output_type": "display_data"
    }
   ],
   "source": [
    "import plotly\n",
    "\n",
    "plotly.offline.init_notebook_mode(connected=True)\n",
    "\n",
    "x_values = [cities[0]['City'], cities[1]['City'], cities[2]['City']]\n",
    "y_values = [cities[0]['Population'], cities[1]['Population'], cities[2]['Population']]\n",
    "trace_first_three_pops = {'x': x_values, 'y': y_values, 'type': 'bar'}\n",
    "plotly.offline.iplot([trace_first_three_pops])"
   ]
  },
  {
   "cell_type": "markdown",
   "metadata": {},
   "source": [
    "Of course, as you may have spotted, there is a good amount of repetition in displaying this data.  Just take a look at how we retrieved the data for our `x_values` and `y_values`.  "
   ]
  },
  {
   "cell_type": "code",
   "execution_count": 27,
   "metadata": {},
   "outputs": [],
   "source": [
    "x_values = [cities[0]['City'], cities[1]['City'], cities[2]['City']]\n",
    "y_values = [cities[0]['Population'], cities[1]['Population'], cities[2]['Population']]"
   ]
  },
  {
   "cell_type": "markdown",
   "metadata": {},
   "source": [
    "So in this lesson, we will use our `for` loop to display information about our travel locations with less repetition."
   ]
  },
  {
   "cell_type": "markdown",
   "metadata": {},
   "source": [
    "### Working with the For Loop"
   ]
  },
  {
   "cell_type": "markdown",
   "metadata": {},
   "source": [
    "Our `cities` list contains information about the top 12 cities.  For our upcoming iteration tasks, it will be useful to have a list of the numbers 0 through 11.  Use what we know about `len` and `range`to generate a list of numbers 1 through 11.  Assign this to a variable called `city_indices`."
   ]
  },
  {
   "cell_type": "code",
   "execution_count": 28,
   "metadata": {},
   "outputs": [
    {
     "name": "stdout",
     "output_type": "stream",
     "text": [
      "0\n",
      "1\n",
      "2\n",
      "3\n",
      "4\n",
      "5\n",
      "6\n",
      "7\n",
      "8\n",
      "9\n",
      "10\n",
      "11\n"
     ]
    },
    {
     "data": {
      "text/plain": [
       "['0', '1', '2', '3', '4', '5', '6', '7', '8', '9', '10', '11']"
      ]
     },
     "execution_count": 28,
     "metadata": {},
     "output_type": "execute_result"
    }
   ],
   "source": [
    "city_indices = ['0','1','2','3','4','5','6','7','8','9','10','11']\n",
    "for index in list(range(0, len(cities))):\n",
    "    print(index)\n",
    "city_indices # [0, 1, 2, 3, 4, 5, 6, 7, 8, 9, 10, 11]"
   ]
  },
  {
   "cell_type": "markdown",
   "metadata": {},
   "source": [
    "Now we want to create labels for each of the cities. We'll provide a list of the `city_names` for you. "
   ]
  },
  {
   "cell_type": "code",
   "execution_count": 29,
   "metadata": {},
   "outputs": [],
   "source": [
    "city_names = ['Buenos Aires',\n",
    " 'Toronto',\n",
    " 'Pyeongchang',\n",
    " 'Marakesh',\n",
    " 'Albuquerque',\n",
    " 'Los Cabos',\n",
    " 'Greenville',\n",
    " 'Archipelago Sea',\n",
    " 'Walla Walla Valley',\n",
    " 'Salina Island',\n",
    " 'Solta',\n",
    " 'Iguazu Falls']"
   ]
  },
  {
   "cell_type": "markdown",
   "metadata": {},
   "source": [
    "Your task is to assign the variable `names_and_ranks` to a list, with each element equal to the city name and it's corresponding rank.  For example, the first element would be, `\"1. Buenos Aires\"` and the second would be `\"2. Toronto\"`.  Use a `for` loop and the lists `city_indices` and `city_names` to accomplish this."
   ]
  },
  {
   "cell_type": "code",
   "execution_count": 30,
   "metadata": {
    "scrolled": true
   },
   "outputs": [
    {
     "name": "stdout",
     "output_type": "stream",
     "text": [
      "1 . Buenos Aires\n",
      "2 . Toronto\n",
      "3 . Pyeongchang\n",
      "4 . Marakesh\n",
      "5 . Albuquerque\n",
      "6 . Los Cabos\n",
      "7 . Greenville\n",
      "8 . Archipelago Sea\n",
      "9 . Walla Walla Valley\n",
      "10 . Salina Island\n",
      "11 . Solta\n",
      "12 . Iguazu Falls\n"
     ]
    }
   ],
   "source": [
    "city_rank = 0\n",
    "for index in city_names:\n",
    "    city_rank += 1\n",
    "    print(city_rank,\".\", index)"
   ]
  },
  {
   "cell_type": "code",
   "execution_count": 31,
   "metadata": {},
   "outputs": [
    {
     "name": "stdout",
     "output_type": "stream",
     "text": [
      "1 . Buenos Aires\n"
     ]
    }
   ],
   "source": [
    "print(1,\".\", city_names[0])"
   ]
  },
  {
   "cell_type": "markdown",
   "metadata": {},
   "source": [
    "Ok, now let's create a new variable called `city_populations`.  Use a `for` loop to iterate through `cities` and have `city_populations` equal to each of the populations."
   ]
  },
  {
   "cell_type": "code",
   "execution_count": 32,
   "metadata": {},
   "outputs": [
    {
     "name": "stdout",
     "output_type": "stream",
     "text": [
      "Buenos Aires 2891000\n",
      "Toronto 2800000\n",
      "Pyeongchang 2581000\n",
      "Marakesh 928850\n",
      "Albuquerque 559277\n",
      "Los Cabos 287651\n",
      "Greenville 84554\n",
      "Archipelago Sea 60000\n",
      "Walla Walla Valley 32237\n",
      "Salina Island 4000\n",
      "Solta 1700\n",
      "Iguazu Falls 0\n"
     ]
    }
   ],
   "source": [
    "list1 = city_names\n",
    "list2 = [cities[0]['Population'], cities[1]['Population'], cities[2]['Population'], cities[3]['Population'], cities[4]['Population'], cities[5]['Population'],cities[6]['Population'], cities[7]['Population'], cities[8]['Population'], cities[9]['Population'], cities[10]['Population'], cities[11]['Population']]\n",
    "\n",
    "city_populations = 0\n",
    "for pop_output in range(0, len(list1)):\n",
    "    city_populations += 1 \n",
    "    print(list1[pop_output],list2[pop_output])\n",
    "    "
   ]
  },
  {
   "cell_type": "code",
   "execution_count": null,
   "metadata": {},
   "outputs": [],
   "source": []
  },
  {
   "cell_type": "markdown",
   "metadata": {},
   "source": [
    "Great! Now we can begin to plot this data.  First, let's create a trace of our populations and set it to the variable `trace_populations`."
   ]
  },
  {
   "cell_type": "code",
   "execution_count": null,
   "metadata": {},
   "outputs": [],
   "source": []
  },
  {
   "cell_type": "code",
   "execution_count": 42,
   "metadata": {},
   "outputs": [
    {
     "data": {
      "text/html": [
       "<script>requirejs.config({paths: { 'plotly': ['https://cdn.plot.ly/plotly-latest.min']},});if(!window.Plotly) {{require(['plotly'],function(plotly) {window.Plotly=plotly;});}}</script>"
      ],
      "text/vnd.plotly.v1+html": [
       "<script>requirejs.config({paths: { 'plotly': ['https://cdn.plot.ly/plotly-latest.min']},});if(!window.Plotly) {{require(['plotly'],function(plotly) {window.Plotly=plotly;});}}</script>"
      ]
     },
     "metadata": {},
     "output_type": "display_data"
    },
    {
     "data": {
      "application/vnd.plotly.v1+json": {
       "data": [
        {
         "type": "bar",
         "uid": "99239c9c-b271-11e9-b5c5-5d1e4439d892",
         "x": [
          "Buenos Aires",
          "Toronto",
          "Pyeongchang",
          "Marakesh",
          "Albuquerque",
          "Los Cabos",
          "Greenville",
          "Archipelago Sea",
          "Walla Walla Valley",
          "Salina Island",
          "Solta",
          "Iguazu Falls"
         ],
         "y": [
          2891000,
          2800000,
          2581000,
          928850,
          559277,
          287651,
          84554,
          60000,
          32237,
          4000,
          1700,
          0
         ]
        }
       ],
       "layout": {}
      },
      "text/html": [
       "<div id=\"dd12a5e1-0878-413b-b820-1c6a1884f3a4\" style=\"height: 525px; width: 100%;\" class=\"plotly-graph-div\"></div><script type=\"text/javascript\">require([\"plotly\"], function(Plotly) { window.PLOTLYENV=window.PLOTLYENV || {};window.PLOTLYENV.BASE_URL=\"https://plot.ly\";Plotly.newPlot(\"dd12a5e1-0878-413b-b820-1c6a1884f3a4\", [{\"x\": [\"Buenos Aires\", \"Toronto\", \"Pyeongchang\", \"Marakesh\", \"Albuquerque\", \"Los Cabos\", \"Greenville\", \"Archipelago Sea\", \"Walla Walla Valley\", \"Salina Island\", \"Solta\", \"Iguazu Falls\"], \"y\": [2891000, 2800000, 2581000, 928850, 559277, 287651, 84554, 60000, 32237, 4000, 1700, 0], \"type\": \"bar\", \"uid\": \"9926e10e-b271-11e9-b5c5-5d1e4439d892\"}], {}, {\"showLink\": true, \"linkText\": \"Export to plot.ly\"})});</script>"
      ],
      "text/vnd.plotly.v1+html": [
       "<div id=\"dd12a5e1-0878-413b-b820-1c6a1884f3a4\" style=\"height: 525px; width: 100%;\" class=\"plotly-graph-div\"></div><script type=\"text/javascript\">require([\"plotly\"], function(Plotly) { window.PLOTLYENV=window.PLOTLYENV || {};window.PLOTLYENV.BASE_URL=\"https://plot.ly\";Plotly.newPlot(\"dd12a5e1-0878-413b-b820-1c6a1884f3a4\", [{\"x\": [\"Buenos Aires\", \"Toronto\", \"Pyeongchang\", \"Marakesh\", \"Albuquerque\", \"Los Cabos\", \"Greenville\", \"Archipelago Sea\", \"Walla Walla Valley\", \"Salina Island\", \"Solta\", \"Iguazu Falls\"], \"y\": [2891000, 2800000, 2581000, 928850, 559277, 287651, 84554, 60000, 32237, 4000, 1700, 0], \"type\": \"bar\", \"uid\": \"9926e10e-b271-11e9-b5c5-5d1e4439d892\"}], {}, {\"showLink\": true, \"linkText\": \"Export to plot.ly\"})});</script>"
      ]
     },
     "metadata": {},
     "output_type": "display_data"
    }
   ],
   "source": [
    "import plotly\n",
    "\n",
    "plotly.offline.init_notebook_mode(connected=True)\n",
    "x_values = list1\n",
    "y_values = list2 \n",
    "trace_pops = {'x': x_values, 'y': y_values, 'type': 'bar'}\n",
    "plotly.offline.iplot([trace_pops])"
   ]
  },
  {
   "cell_type": "markdown",
   "metadata": {},
   "source": [
    "Now we want declare a variable called `city_areas` that points to a list of all of the areas of the cities.  Let's use a `for` loop to iterate through our `cities` and have `city_areas` equal to each area of the city.  "
   ]
  },
  {
   "cell_type": "code",
   "execution_count": 34,
   "metadata": {},
   "outputs": [
    {
     "name": "stdout",
     "output_type": "stream",
     "text": [
      "Buenos Aires 4758\n",
      "Toronto 2731571\n",
      "Pyeongchang 3194\n",
      "Marakesh 200\n",
      "Albuquerque 491\n",
      "Los Cabos 3750\n",
      "Greenville 68\n",
      "Archipelago Sea 8300\n",
      "Walla Walla Valley 33\n",
      "Salina Island 27\n",
      "Solta 59\n",
      "Iguazu Falls 672\n"
     ]
    }
   ],
   "source": [
    "list3 = [cities[0]['Area'], cities[1]['Area'], cities[2]['Area'], cities[3]['Area'], cities[4]['Area'], cities[5]['Area'],cities[6]['Area'], cities[7]['Area'], cities[8]['Area'], cities[9]['Area'], cities[10]['Area'], cities[11]['Area']]\n",
    "\n",
    "city_areas = 0\n",
    "for area_output in range(0, len(list1)):\n",
    "    city_areas += 1 \n",
    "    print(list1[area_output],list3[area_output])"
   ]
  },
  {
   "cell_type": "code",
   "execution_count": 45,
   "metadata": {},
   "outputs": [],
   "source": [
    "trace_areas = {'x': cities, 'y': city_areas, 'text': city_rank, 'type': 'bar', 'name': 'areas'}"
   ]
  },
  {
   "cell_type": "code",
   "execution_count": 47,
   "metadata": {},
   "outputs": [
    {
     "data": {
      "text/html": [
       "<script>requirejs.config({paths: { 'plotly': ['https://cdn.plot.ly/plotly-latest.min']},});if(!window.Plotly) {{require(['plotly'],function(plotly) {window.Plotly=plotly;});}}</script>"
      ],
      "text/vnd.plotly.v1+html": [
       "<script>requirejs.config({paths: { 'plotly': ['https://cdn.plot.ly/plotly-latest.min']},});if(!window.Plotly) {{require(['plotly'],function(plotly) {window.Plotly=plotly;});}}</script>"
      ]
     },
     "metadata": {},
     "output_type": "display_data"
    },
    {
     "data": {
      "application/vnd.plotly.v1+json": {
       "data": [
        {
         "type": "bar",
         "uid": "6308765e-b272-11e9-b5c5-5d1e4439d892",
         "x": [
          "Buenos Aires",
          "Toronto",
          "Pyeongchang",
          "Marakesh",
          "Albuquerque",
          "Los Cabos",
          "Greenville",
          "Archipelago Sea",
          "Walla Walla Valley",
          "Salina Island",
          "Solta",
          "Iguazu Falls"
         ],
         "y": [
          2891000,
          2800000,
          2581000,
          928850,
          559277,
          287651,
          84554,
          60000,
          32237,
          4000,
          1700,
          0
         ]
        },
        {
         "type": "bar",
         "uid": "63087942-b272-11e9-b5c5-5d1e4439d892",
         "x": [
          "Buenos Aires",
          "Toronto",
          "Pyeongchang",
          "Marakesh",
          "Albuquerque",
          "Los Cabos",
          "Greenville",
          "Archipelago Sea",
          "Walla Walla Valley",
          "Salina Island",
          "Solta",
          "Iguazu Falls"
         ],
         "y": [
          4758,
          2731571,
          3194,
          200,
          491,
          3750,
          68,
          8300,
          33,
          27,
          59,
          672
         ]
        }
       ],
       "layout": {}
      },
      "text/html": [
       "<div id=\"1dadf84f-62ba-455b-b42c-c0fcd46d3ba5\" style=\"height: 525px; width: 100%;\" class=\"plotly-graph-div\"></div><script type=\"text/javascript\">require([\"plotly\"], function(Plotly) { window.PLOTLYENV=window.PLOTLYENV || {};window.PLOTLYENV.BASE_URL=\"https://plot.ly\";Plotly.newPlot(\"1dadf84f-62ba-455b-b42c-c0fcd46d3ba5\", [{\"x\": [\"Buenos Aires\", \"Toronto\", \"Pyeongchang\", \"Marakesh\", \"Albuquerque\", \"Los Cabos\", \"Greenville\", \"Archipelago Sea\", \"Walla Walla Valley\", \"Salina Island\", \"Solta\", \"Iguazu Falls\"], \"y\": [2891000, 2800000, 2581000, 928850, 559277, 287651, 84554, 60000, 32237, 4000, 1700, 0], \"type\": \"bar\", \"uid\": \"630ff488-b272-11e9-b5c5-5d1e4439d892\"}, {\"x\": [\"Buenos Aires\", \"Toronto\", \"Pyeongchang\", \"Marakesh\", \"Albuquerque\", \"Los Cabos\", \"Greenville\", \"Archipelago Sea\", \"Walla Walla Valley\", \"Salina Island\", \"Solta\", \"Iguazu Falls\"], \"y\": [4758, 2731571, 3194, 200, 491, 3750, 68, 8300, 33, 27, 59, 672], \"type\": \"bar\", \"uid\": \"630ff6a4-b272-11e9-b5c5-5d1e4439d892\"}], {}, {\"showLink\": true, \"linkText\": \"Export to plot.ly\"})});</script>"
      ],
      "text/vnd.plotly.v1+html": [
       "<div id=\"1dadf84f-62ba-455b-b42c-c0fcd46d3ba5\" style=\"height: 525px; width: 100%;\" class=\"plotly-graph-div\"></div><script type=\"text/javascript\">require([\"plotly\"], function(Plotly) { window.PLOTLYENV=window.PLOTLYENV || {};window.PLOTLYENV.BASE_URL=\"https://plot.ly\";Plotly.newPlot(\"1dadf84f-62ba-455b-b42c-c0fcd46d3ba5\", [{\"x\": [\"Buenos Aires\", \"Toronto\", \"Pyeongchang\", \"Marakesh\", \"Albuquerque\", \"Los Cabos\", \"Greenville\", \"Archipelago Sea\", \"Walla Walla Valley\", \"Salina Island\", \"Solta\", \"Iguazu Falls\"], \"y\": [2891000, 2800000, 2581000, 928850, 559277, 287651, 84554, 60000, 32237, 4000, 1700, 0], \"type\": \"bar\", \"uid\": \"630ff488-b272-11e9-b5c5-5d1e4439d892\"}, {\"x\": [\"Buenos Aires\", \"Toronto\", \"Pyeongchang\", \"Marakesh\", \"Albuquerque\", \"Los Cabos\", \"Greenville\", \"Archipelago Sea\", \"Walla Walla Valley\", \"Salina Island\", \"Solta\", \"Iguazu Falls\"], \"y\": [4758, 2731571, 3194, 200, 491, 3750, 68, 8300, 33, 27, 59, 672], \"type\": \"bar\", \"uid\": \"630ff6a4-b272-11e9-b5c5-5d1e4439d892\"}], {}, {\"showLink\": true, \"linkText\": \"Export to plot.ly\"})});</script>"
      ]
     },
     "metadata": {},
     "output_type": "display_data"
    }
   ],
   "source": [
    "import plotly\n",
    "plotly.offline.init_notebook_mode(connected=True) \n",
    "x_values = list1\n",
    "y_values = list3 \n",
    "trace_areas = {'x': x_values, 'y': y_values, 'type': 'bar'}\n",
    "plotly.offline.iplot([trace_pops, trace_areas])"
   ]
  },
  {
   "cell_type": "markdown",
   "metadata": {},
   "source": [
    "### Summary"
   ]
  },
  {
   "cell_type": "markdown",
   "metadata": {},
   "source": [
    "In this section we saw how we can use `for` loops to go through elements of a list and perform the same operation on each.  By using `for` loops we were able to reduce the amount of code that we wrote and while also writing more expressive code."
   ]
  }
 ],
 "metadata": {
  "kernelspec": {
   "display_name": "Python 3",
   "language": "python",
   "name": "python3"
  },
  "language_info": {
   "codemirror_mode": {
    "name": "ipython",
    "version": 3
   },
   "file_extension": ".py",
   "mimetype": "text/x-python",
   "name": "python",
   "nbconvert_exporter": "python",
   "pygments_lexer": "ipython3",
   "version": "3.6.6"
  }
 },
 "nbformat": 4,
 "nbformat_minor": 2
}
